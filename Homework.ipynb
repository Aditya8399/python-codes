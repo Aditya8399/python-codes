{
 "cells": [
  {
   "cell_type": "markdown",
   "metadata": {},
   "source": [
    "#DAY 1"
   ]
  },
  {
   "cell_type": "code",
   "execution_count": 1,
   "metadata": {},
   "outputs": [
    {
     "name": "stdout",
     "output_type": "stream",
     "text": [
      "the paremetre of triangle 205\n"
     ]
    }
   ],
   "source": [
    "a=int(input(\"Enter the number\"))\n",
    "b=int(input(\"enter the number\"))\n",
    "c=int(input(\"enter the number\"))\n",
    "p=a+b+c\n",
    "print(\"the paremetre of triangle\",p)"
   ]
  },
  {
   "cell_type": "code",
   "execution_count": 2,
   "metadata": {},
   "outputs": [
    {
     "name": "stdout",
     "output_type": "stream",
     "text": [
      "Area of circle 9847.04\n"
     ]
    }
   ],
   "source": [
    "r=int(input(\"Enter the radius\"))\n",
    "area=3.14*r*r\n",
    "print(\"Area of circle\",area)\n"
   ]
  },
  {
   "cell_type": "code",
   "execution_count": 3,
   "metadata": {},
   "outputs": [
    {
     "name": "stdout",
     "output_type": "stream",
     "text": [
      "temperature in fahrenheit 32.0\n"
     ]
    }
   ],
   "source": [
    "c=int(input(\"Enter the celcius\"))\n",
    "f=(c*1.8)+32\n",
    "print(\"temperature in fahrenheit\",f)"
   ]
  },
  {
   "cell_type": "code",
   "execution_count": 5,
   "metadata": {},
   "outputs": [
    {
     "name": "stdout",
     "output_type": "stream",
     "text": [
      "Total salary 56.25\n"
     ]
    }
   ],
   "source": [
    "bs=int(input(\"enter the basic salary\"))\n",
    "tda=bs*10/100\n",
    "hra=bs*15/100\n",
    "gs=bs+tda+hra\n",
    "print(\"Total salary\",gs)"
   ]
  },
  {
   "cell_type": "markdown",
   "metadata": {},
   "source": [
    "#DAY 2"
   ]
  },
  {
   "cell_type": "code",
   "execution_count": 15,
   "metadata": {},
   "outputs": [
    {
     "name": "stdout",
     "output_type": "stream",
     "text": [
      "Grade is C\n"
     ]
    }
   ],
   "source": [
    "percentage=int(input(\"Enter the number\"))\n",
    "if percentage>90:\n",
    "    print(\"Grade is A\")\n",
    "elif percentage>75:\n",
    "    print(\"Grade is B\")\n",
    "elif percentage>65:\n",
    "    print(\"Grade is C\")\n",
    "elif percentage>55:\n",
    "    print(\"Grade is D\")\n",
    "elif percentage>45:\n",
    "    print(\"Grade is E\")\n",
    "elif percentage<45: \n",
    "    print(\"Grade is F\")"
   ]
  },
  {
   "cell_type": "code",
   "execution_count": 1,
   "metadata": {},
   "outputs": [
    {
     "name": "stdout",
     "output_type": "stream",
     "text": [
      "The triangle is scalene\n"
     ]
    }
   ],
   "source": [
    "a=int(input(\"Enter the number\"))\n",
    "b=int(input(\"Enter the number\"))\n",
    "c=int(input(\"Enter the number\"))\n",
    "if a == b == c:\n",
    "    print(\"The triangle is equilateral\")\n",
    "elif a==b or b==c or c==a:\n",
    "    print(\"The triangle is isosceles\")   \n",
    "else:\n",
    "    print(\"The triangle is scalene\") "
   ]
  },
  {
   "cell_type": "code",
   "execution_count": 13,
   "metadata": {},
   "outputs": [
    {
     "name": "stdout",
     "output_type": "stream",
     "text": [
      "Zomato is in the list of mobile apps.\n"
     ]
    }
   ],
   "source": [
    "\n",
    "mobile_apps = ('WhatsApp', 'Instagram', 'Facebook', 'Twitter', 'Zomato', 'Uber')\n",
    "if 'Zomato' in mobile_apps:\n",
    "    print(\"Zomato is in the list of mobile apps.\")\n",
    "else:\n",
    "    print(\"Zomato is not in the list of mobile apps.\")\n"
   ]
  },
  {
   "cell_type": "markdown",
   "metadata": {},
   "source": [
    "#Logical way"
   ]
  },
  {
   "cell_type": "code",
   "execution_count": 19,
   "metadata": {},
   "outputs": [
    {
     "name": "stdout",
     "output_type": "stream",
     "text": [
      "the alphabet is consonent\n"
     ]
    }
   ],
   "source": [
    "char=input(\"Enter a Alphabet\")\n",
    "if char=='a' or char=='e' or char=='i' or char=='o' or char=='u':\n",
    "    print(\"The alphabet is vowel\")\n",
    "else:\n",
    "    print(\"the alphabet is consonent\")"
   ]
  },
  {
   "cell_type": "code",
   "execution_count": 20,
   "metadata": {},
   "outputs": [
    {
     "name": "stdout",
     "output_type": "stream",
     "text": [
      "It is a consonent\n"
     ]
    }
   ],
   "source": [
    "char=input(\"Enter the Alphabet\")\n",
    "#lst=['a','e','i','o','u']\n",
    "lst=\"aeiou\"\n",
    "if char in lst:\n",
    "    print(\"It is a vowel\")\n",
    "else:\n",
    "    print(\"It is a consonent\")\n"
   ]
  },
  {
   "cell_type": "code",
   "execution_count": 45,
   "metadata": {},
   "outputs": [
    {
     "name": "stdout",
     "output_type": "stream",
     "text": [
      "This year is leap year 2000\n"
     ]
    }
   ],
   "source": [
    "y=int(input(\"Enter the year\"))\n",
    "if y%400==0:\n",
    "    print(\"This year is leap year\",y)\n",
    "elif y%4==0  and  y%100!=0:\n",
    "    print(\"This year is not a leap year\",y)"
   ]
  },
  {
   "cell_type": "markdown",
   "metadata": {},
   "source": []
  },
  {
   "cell_type": "markdown",
   "metadata": {},
   "source": [
    "#Assignment\n",
    "#Ques #4\n",
    "#Operators"
   ]
  },
  {
   "cell_type": "code",
   "execution_count": 1,
   "metadata": {},
   "outputs": [
    {
     "name": "stdout",
     "output_type": "stream",
     "text": [
      "Number is 5\n"
     ]
    }
   ],
   "source": [
    "a=int(input(\"Enter The Number\"))\n",
    "print(\"Number is\",a)"
   ]
  },
  {
   "cell_type": "code",
   "execution_count": 2,
   "metadata": {},
   "outputs": [
    {
     "name": "stdout",
     "output_type": "stream",
     "text": [
      "The cube of 29 is 24389\n"
     ]
    }
   ],
   "source": [
    "a=29\n",
    "Cube=a**3\n",
    "print(\"The cube of 29 is\",Cube)"
   ]
  },
  {
   "cell_type": "code",
   "execution_count": 3,
   "metadata": {},
   "outputs": [
    {
     "name": "stdout",
     "output_type": "stream",
     "text": [
      "The alphabet is vowel\n"
     ]
    }
   ],
   "source": [
    "char=input(\"Enter a Alphabet\")\n",
    "if char=='a' or char=='e' or char=='i' or char=='o' or char=='u':\n",
    "    print(\"The alphabet is vowel\")\n",
    "else:\n",
    "    print(\"the alphabet is consonent\")"
   ]
  },
  {
   "cell_type": "markdown",
   "metadata": {},
   "source": [
    "#Datatypes"
   ]
  },
  {
   "cell_type": "code",
   "execution_count": 1,
   "metadata": {},
   "outputs": [
    {
     "name": "stdout",
     "output_type": "stream",
     "text": [
      "<class 'int'>\n",
      "<class 'str'>\n",
      "<class 'float'>\n"
     ]
    }
   ],
   "source": [
    "x=10\n",
    "y=\"hello\"\n",
    "z=3.14\n",
    "print(type(x))\n",
    "print(type(y))\n",
    "print(type(z))"
   ]
  },
  {
   "cell_type": "code",
   "execution_count": null,
   "metadata": {},
   "outputs": [],
   "source": []
  }
 ],
 "metadata": {
  "kernelspec": {
   "display_name": "Python 3",
   "language": "python",
   "name": "python3"
  },
  "language_info": {
   "codemirror_mode": {
    "name": "ipython",
    "version": 3
   },
   "file_extension": ".py",
   "mimetype": "text/x-python",
   "name": "python",
   "nbconvert_exporter": "python",
   "pygments_lexer": "ipython3",
   "version": "3.11.5"
  },
  "orig_nbformat": 4
 },
 "nbformat": 4,
 "nbformat_minor": 2
}
