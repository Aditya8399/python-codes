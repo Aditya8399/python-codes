{
 "cells": [
  {
   "cell_type": "markdown",
   "metadata": {},
   "source": [
    "#Conditional Statement\n",
    "- If\n",
    "- If else\n",
    "- Elif\n",
    "- Nested if\n"
   ]
  },
  {
   "cell_type": "code",
   "execution_count": 52,
   "metadata": {},
   "outputs": [
    {
     "name": "stdout",
     "output_type": "stream",
     "text": [
      "b is greater then a\n",
      "c is greater than a\n",
      "c is greater than b\n"
     ]
    }
   ],
   "source": [
    "a=10\n",
    "b=20\n",
    "c=30\n",
    "if a>b:\n",
    "    print(\"a is greater than b\")\n",
    "if a>c:\n",
    "    print(\"a is greater than c\") \n",
    "if b>c:\n",
    "    print(\"b is greater than c\")  \n",
    "if b>a:\n",
    "    print(\"b is greater then a\")\n",
    "if c>a:\n",
    "    print(\"c is greater than a\")\n",
    "if c>b:\n",
    "    print(\"c is greater than b\")      "
   ]
  },
  {
   "cell_type": "code",
   "execution_count": 62,
   "metadata": {},
   "outputs": [
    {
     "name": "stdout",
     "output_type": "stream",
     "text": [
      "you are eligible for vote\n"
     ]
    }
   ],
   "source": [
    "age=int(input(\"enter your age\"))\n",
    "if age>18:\n",
    "    print(\"you are eligible for vote\")\n",
    "else:\n",
    "    print(\"you are not eligible for vote\") \n",
    "           "
   ]
  },
  {
   "cell_type": "code",
   "execution_count": null,
   "metadata": {},
   "outputs": [
    {
     "name": "stdout",
     "output_type": "stream",
     "text": [
      "b is greater then a\n"
     ]
    }
   ],
   "source": [
    "a=10\n",
    "b=20\n",
    "c=30\n",
    "if a>b:\n",
    "    print(\"a is greater than b\")\n",
    "elif a>c:\n",
    "    print(\"a is greater than c\") \n",
    "elif b>c:\n",
    "    print(\"b is greater than c\")  \n",
    "elif b>a:\n",
    "    print(\"b is greater then a\")\n",
    "elif c>a:\n",
    "    print(\"c is greater than a\")\n",
    "elif c>b:\n",
    "    print(\"c is greater than b\") \n",
    "else:\n",
    "    print(\"Invalid number\") "
   ]
  },
  {
   "cell_type": "code",
   "execution_count": null,
   "metadata": {},
   "outputs": [
    {
     "name": "stdout",
     "output_type": "stream",
     "text": [
      "number is positive\n"
     ]
    }
   ],
   "source": [
    "Number=int(input(\"enter a number\"))\n",
    "if Number>0:\n",
    "      print(\"number is positive\")\n",
    "else:\n",
    "      print(\"number is negative\")\n"
   ]
  },
  {
   "cell_type": "code",
   "execution_count": 59,
   "metadata": {},
   "outputs": [
    {
     "name": "stdout",
     "output_type": "stream",
     "text": [
      "number is odd\n"
     ]
    }
   ],
   "source": [
    "number=int(input(\"Enter the number\"))\n",
    "if number%2==0:\n",
    "    print(\"Number is even\")\n",
    "else:\n",
    "    print(\"number is odd\")    "
   ]
  },
  {
   "cell_type": "code",
   "execution_count": 76,
   "metadata": {},
   "outputs": [
    {
     "name": "stdout",
     "output_type": "stream",
     "text": [
      "the character is vowels\n"
     ]
    }
   ],
   "source": [
    "ch=input(\"Enter the alphabet\")\n",
    "if ch:\n",
    "    print(\"the character is vowels\",)\n",
    "else:\n",
    "    print(\"the character is consonent\")"
   ]
  },
  {
   "cell_type": "code",
   "execution_count": 67,
   "metadata": {},
   "outputs": [
    {
     "name": "stdout",
     "output_type": "stream",
     "text": [
      "Grade is D\n"
     ]
    }
   ],
   "source": [
    "percentage=int(input(\"Enter the number\"))\n",
    "if percentage>90:\n",
    "    print(\"Grade is A\")\n",
    "elif percentage>75:\n",
    "    print(\"Grade is B\")\n",
    "elif percentage>65:\n",
    "    print(\"Grade is C\")\n",
    "elif percentage>55:\n",
    "    print(\"Grade is D\")\n",
    "elif percentage>45:\n",
    "    print(\"Grade is E\")\n",
    "elif percentage<45: \n",
    "    print(\"Grade is F\")\n",
    "    "
   ]
  },
  {
   "cell_type": "code",
   "execution_count": 75,
   "metadata": {},
   "outputs": [
    {
     "name": "stdout",
     "output_type": "stream",
     "text": [
      "The triangle is scalene\n"
     ]
    }
   ],
   "source": [
    "a=int(input(\"Enter the number\"))\n",
    "b=int(input(\"Enter the number\"))\n",
    "c=int(input(\"Enter the number\"))\n",
    "if a == b == c:\n",
    "    print(\"The triangle is equilateral\")\n",
    "elif a==b or b==c or c==a:\n",
    "    print(\"The triangle is isosceles\")   \n",
    "else:\n",
    "    print(\"The triangle is scalene\") \n",
    "\n"
   ]
  },
  {
   "cell_type": "markdown",
   "metadata": {},
   "source": [
    "- # Nested If"
   ]
  },
  {
   "cell_type": "code",
   "execution_count": 3,
   "metadata": {},
   "outputs": [
    {
     "name": "stdout",
     "output_type": "stream",
     "text": [
      "Execllent\n"
     ]
    }
   ],
   "source": [
    "marks=int(input(\"Enter the Number\"))\n",
    "if marks>50:\n",
    "    if marks>75:\n",
    "        if marks>90:\n",
    "            print(\"Execllent\")\n",
    "        else:\n",
    "            print(\"Very Good\")\n",
    "    else:\n",
    "        print(\"Good\")\n",
    "else:\n",
    "    print(\"poor\")\n",
    "    "
   ]
  },
  {
   "cell_type": "code",
   "execution_count": 19,
   "metadata": {},
   "outputs": [
    {
     "name": "stdout",
     "output_type": "stream",
     "text": [
      "The number is Equal TO zero\n"
     ]
    }
   ],
   "source": [
    "number=int(input(\"Enter the Number\"))\n",
    "if number>=0:\n",
    "    if number==0:\n",
    "        print(\"The number is Equal TO zero\")\n",
    "    else:\n",
    "        print(\"The number is Positive\")\n",
    "else:\n",
    "    print(\"The number is Negative \")\n",
    "    "
   ]
  },
  {
   "cell_type": "code",
   "execution_count": null,
   "metadata": {},
   "outputs": [],
   "source": []
  }
 ],
 "metadata": {
  "kernelspec": {
   "display_name": "Python 3",
   "language": "python",
   "name": "python3"
  },
  "language_info": {
   "codemirror_mode": {
    "name": "ipython",
    "version": 3
   },
   "file_extension": ".py",
   "mimetype": "text/x-python",
   "name": "python",
   "nbconvert_exporter": "python",
   "pygments_lexer": "ipython3",
   "version": "3.11.5"
  },
  "orig_nbformat": 4
 },
 "nbformat": 4,
 "nbformat_minor": 2
}
