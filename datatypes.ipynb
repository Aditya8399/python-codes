{
 "cells": [
  {
   "cell_type": "code",
   "execution_count": 1,
   "metadata": {},
   "outputs": [
    {
     "name": "stdout",
     "output_type": "stream",
     "text": [
      "101\n"
     ]
    }
   ],
   "source": [
    "a=12\n",
    "b=89\n",
    "c=a+b\n",
    "print(c)\n",
    "\n"
   ]
  },
  {
   "cell_type": "code",
   "execution_count": 5,
   "metadata": {},
   "outputs": [
    {
     "name": "stdout",
     "output_type": "stream",
     "text": [
      "8000.0\n",
      "12000.0\n",
      "100000.0\n"
     ]
    }
   ],
   "source": [
    "a=80000\n",
    "b=a*10/100\n",
    "print(b)\n",
    "c=8000\n",
    "x=a*15/100\n",
    "print(x)\n",
    "g=a+c+x\n",
    "print(g)"
   ]
  },
  {
   "cell_type": "code",
   "execution_count": 7,
   "metadata": {},
   "outputs": [
    {
     "name": "stdout",
     "output_type": "stream",
     "text": [
      "Total salary 100000.0\n"
     ]
    }
   ],
   "source": [
    "bs=int(input(\"enter the basic salary\"))\n",
    "tda=bs*10/100\n",
    "hra=bs*15/100\n",
    "gs=bs+tda+hra\n",
    "print(\"Total salary\",gs)"
   ]
  },
  {
   "cell_type": "code",
   "execution_count": 4,
   "metadata": {},
   "outputs": [
    {
     "name": "stdout",
     "output_type": "stream",
     "text": [
      "the paremetre of triangle 354\n"
     ]
    }
   ],
   "source": [
    "a=int(input(\"Enter the number\"))\n",
    "b=int(input(\"enter the number\"))\n",
    "c=int(input(\"enter the number\"))\n",
    "p=a+b+c\n",
    "print(\"the paremetre of triangle\",p)\n",
    "\n"
   ]
  },
  {
   "cell_type": "code",
   "execution_count": 4,
   "metadata": {},
   "outputs": [
    {
     "name": "stdout",
     "output_type": "stream",
     "text": [
      "Area of circle 2826.0\n"
     ]
    }
   ],
   "source": [
    "r=int(input(\"Enter the radius\"))\n",
    "area=3.14*r*r\n",
    "print(\"Area of circle\",area)"
   ]
  },
  {
   "cell_type": "code",
   "execution_count": 7,
   "metadata": {},
   "outputs": [
    {
     "name": "stdout",
     "output_type": "stream",
     "text": [
      "temperature in fahrenheit 68.0\n"
     ]
    }
   ],
   "source": [
    "c=int(input(\"Enter the celcius\"))\n",
    "f=(c*1.8)+32\n",
    "print(\"temperature in fahrenheit\",f)"
   ]
  },
  {
   "cell_type": "code",
   "execution_count": 2,
   "metadata": {},
   "outputs": [
    {
     "name": "stdout",
     "output_type": "stream",
     "text": [
      "{'name': 'john', 'age': 25, 'class': '10th'}\n"
     ]
    }
   ],
   "source": [
    "student={\n",
    "    'name':'john',\n",
    "    'age':25,\n",
    "    'class':'10th',\n",
    "}\n",
    "print(student)\n"
   ]
  },
  {
   "cell_type": "code",
   "execution_count": 3,
   "metadata": {},
   "outputs": [
    {
     "name": "stdout",
     "output_type": "stream",
     "text": [
      "name:john\n",
      "age:25\n",
      "class:10th\n"
     ]
    }
   ],
   "source": [
    "student={\n",
    "    'name':'john',\n",
    "    'age':25,\n",
    "    'class':'10th',\n",
    "}\n",
    "for key,value in student.items():\n",
    "    print(f'{key}:{value}')"
   ]
  },
  {
   "cell_type": "code",
   "execution_count": null,
   "metadata": {},
   "outputs": [],
   "source": []
  }
 ],
 "metadata": {
  "kernelspec": {
   "display_name": "Python 3",
   "language": "python",
   "name": "python3"
  },
  "language_info": {
   "codemirror_mode": {
    "name": "ipython",
    "version": 3
   },
   "file_extension": ".py",
   "mimetype": "text/x-python",
   "name": "python",
   "nbconvert_exporter": "python",
   "pygments_lexer": "ipython3",
   "version": "3.11.5"
  },
  "orig_nbformat": 4
 },
 "nbformat": 4,
 "nbformat_minor": 2
}
